{
 "cells": [
  {
   "cell_type": "code",
   "execution_count": 25,
   "metadata": {},
   "outputs": [],
   "source": [
    "import pandas as pd"
   ]
  },
  {
   "cell_type": "code",
   "execution_count": 26,
   "metadata": {},
   "outputs": [
    {
     "name": "stdout",
     "output_type": "stream",
     "text": [
      "        date  sentiment                                     sentiment_dict\n",
      "0 1996-10-30   0.028881  {'positive': 0.1624157875776291, 'negative': 0...\n",
      "1 1996-12-04  -0.588398  {'positive': 0.07799529284238815, 'negative': ...\n",
      "2 1997-01-22   0.123663  {'positive': 0.17666494846343994, 'negative': ...\n",
      "3 1997-03-12  -0.728463  {'positive': 0.02856595441699028, 'negative': ...\n",
      "4 1997-05-07  -0.035630  {'positive': 0.16252721846103668, 'negative': ...\n"
     ]
    }
   ],
   "source": [
    "# 加载情感信号数据\n",
    "df_sentiment = pd.read_csv('sentiment.csv', parse_dates=['date'])\n",
    "\n",
    "# 查看前几行数据，确认数据加载正确\n",
    "print(df_sentiment.head())\n"
   ]
  },
  {
   "cell_type": "code",
   "execution_count": 27,
   "metadata": {},
   "outputs": [
    {
     "name": "stdout",
     "output_type": "stream",
     "text": [
      "        date  rate_change   decision\n",
      "0 2024-09-18         -0.5   Decrease\n",
      "1 2024-07-31          0.0  No Change\n",
      "2 2024-06-12          0.0  No Change\n",
      "3 2024-05-01          0.0  No Change\n",
      "4 2024-03-21          0.0  No Change\n"
     ]
    }
   ],
   "source": [
    "# 加载美联储利率决策数据\n",
    "df_rates = pd.read_csv('historical.csv', parse_dates=['date'])\n",
    "\n",
    "# 查看前几行数据，确认数据加载正确\n",
    "print(df_rates.head())\n"
   ]
  },
  {
   "cell_type": "code",
   "execution_count": 30,
   "metadata": {},
   "outputs": [
    {
     "name": "stdout",
     "output_type": "stream",
     "text": [
      "Index(['sentiment_date', 'sentiment', 'sentiment_dict'], dtype='object')\n",
      "Index(['decision_date', 'rate_change', 'decision'], dtype='object')\n"
     ]
    }
   ],
   "source": [
    "# 重命名日期列\n",
    "df_sentiment.rename(columns={'date': 'sentiment_date'}, inplace=True)\n",
    "df_rates.rename(columns={'date': 'decision_date'}, inplace=True)\n",
    "\n",
    "print(df_sentiment.columns)\n",
    "print(df_rates.columns)\n",
    "\n"
   ]
  },
  {
   "cell_type": "code",
   "execution_count": 31,
   "metadata": {},
   "outputs": [],
   "source": [
    "# 按日期排序\n",
    "df_sentiment.sort_values('sentiment_date', inplace=True)\n",
    "df_rates.sort_values('decision_date', inplace=True)\n",
    "\n"
   ]
  },
  {
   "cell_type": "code",
   "execution_count": 32,
   "metadata": {},
   "outputs": [
    {
     "name": "stdout",
     "output_type": "stream",
     "text": [
      "  decision_date  rate_change   decision sentiment_date  sentiment  \\\n",
      "0    1996-11-13         0.00  No Change     1996-10-30   0.028881   \n",
      "1    1996-12-17         0.00  No Change     1996-12-04  -0.588398   \n",
      "2    1997-02-05         0.00  No Change     1997-01-22   0.123663   \n",
      "3    1997-03-25         0.25   Increase     1997-03-12  -0.728463   \n",
      "4    1997-05-20         0.00  No Change     1997-05-07  -0.035630   \n",
      "\n",
      "                                      sentiment_dict  \n",
      "0  {'positive': 0.1624157875776291, 'negative': 0...  \n",
      "1  {'positive': 0.07799529284238815, 'negative': ...  \n",
      "2  {'positive': 0.17666494846343994, 'negative': ...  \n",
      "3  {'positive': 0.02856595441699028, 'negative': ...  \n",
      "4  {'positive': 0.16252721846103668, 'negative': ...  \n"
     ]
    }
   ],
   "source": [
    "# 使用merge_asof合并数据\n",
    "# left=df_rates：左侧是利率决策数据。\n",
    "# right=df_sentiment：右侧是情感信号数据。\n",
    "# left_on='date'和right_on='date'：合并的键是日期。\n",
    "# direction='backward'：对于左侧的每个日期，在右侧寻找小于或等于该日期的最近日期。\n",
    "\n",
    "df_merged = pd.merge_asof(\n",
    "    left=df_rates,\n",
    "    right=df_sentiment,\n",
    "    left_on='decision_date',\n",
    "    right_on='sentiment_date',\n",
    "    direction='backward'\n",
    ")\n",
    "\n",
    "print(df_merged.head())\n",
    "\n"
   ]
  },
  {
   "cell_type": "code",
   "execution_count": 34,
   "metadata": {},
   "outputs": [
    {
     "name": "stdout",
     "output_type": "stream",
     "text": [
      "  decision_date sentiment_date  days_difference\n",
      "0    1996-11-13     1996-10-30               14\n",
      "1    1996-12-17     1996-12-04               13\n",
      "2    1997-02-05     1997-01-22               14\n",
      "3    1997-03-25     1997-03-12               13\n",
      "4    1997-05-20     1997-05-07               13\n"
     ]
    }
   ],
   "source": [
    "# 确保日期列为 datetime 类型\n",
    "df_merged['decision_date'] = pd.to_datetime(df_merged['decision_date'])\n",
    "df_merged['sentiment_date'] = pd.to_datetime(df_merged['sentiment_date'])\n",
    "\n",
    "# 计算日期差\n",
    "df_merged['days_difference'] = (df_merged['decision_date'] - df_merged['sentiment_date']).dt.days\n",
    "\n",
    "print(df_merged[['decision_date', 'sentiment_date', 'days_difference']].head())\n"
   ]
  },
  {
   "cell_type": "code",
   "execution_count": 35,
   "metadata": {},
   "outputs": [],
   "source": [
    "# 过滤掉日期差为负数的行（如果有）\n",
    "df_merged = df_merged[df_merged['days_difference'] >= 0]\n"
   ]
  },
  {
   "cell_type": "code",
   "execution_count": 36,
   "metadata": {},
   "outputs": [],
   "source": [
    "# 保存合并后的数据到 merged.csv\n",
    "df_merged.to_csv('merged.csv', index=False)\n"
   ]
  }
 ],
 "metadata": {
  "kernelspec": {
   "display_name": "Python 3 (ipykernel)",
   "language": "python",
   "name": "python3"
  },
  "language_info": {
   "codemirror_mode": {
    "name": "ipython",
    "version": 3
   },
   "file_extension": ".py",
   "mimetype": "text/x-python",
   "name": "python",
   "nbconvert_exporter": "python",
   "pygments_lexer": "ipython3",
   "version": "3.12.4"
  }
 },
 "nbformat": 4,
 "nbformat_minor": 4
}
